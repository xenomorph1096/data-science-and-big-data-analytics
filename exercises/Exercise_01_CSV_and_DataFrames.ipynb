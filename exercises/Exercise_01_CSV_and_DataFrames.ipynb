{
 "cells": [
  {
   "cell_type": "markdown",
   "metadata": {},
   "source": [
    "# CSV Files and Data Frames\n",
    "\n",
    "After the general introduction above, the real exercise starts now. \n",
    "\n",
    "## Loading data from CSV\n",
    "Your first step is always accessing the data. Often, the data is stored in a database or within files. One common and generic exchange format for files are Comma Separated Value (CSV) files. The first line of such a file indicates the names of the features, the following lines each contain a single instance.\n",
    "\n",
    "First, download the [bankruptcy data set](http://user.informatik.uni-goettingen.de/~sherbold/analcatdata_bankruptcy.csv) we prepared for you and and upload it to your Jupyter notebook. Please note, that we slightly modified the data from the original available in the [UCI archive](https://archive.ics.uci.edu/ml/index.php) UCI for this exercise, e.g., to include missing values. \n",
    "\n",
    "Use the cell below to load the data from the CSV file. The data should be loaded into a _data frame_. Data frames are available in python using the ```pandas``` library. In comparison to matrices or similar types, they allow different types of columns, are usually easier to manipulate, e.g., by adding or removing rows/columns, and rows and columns can be named. \n",
    "\n",
    "Once you have done this, print some information about the data:\n",
    "- number of instances\n",
    "- number of features\n",
    "- names of the features\n",
    "\n",
    "You should have 55 instances with 7 features. "
   ]
  },
  {
   "cell_type": "code",
   "execution_count": null,
   "metadata": {},
   "outputs": [],
   "source": []
  },
  {
   "cell_type": "markdown",
   "metadata": {},
   "source": [
    "## Remove features\n",
    "\n",
    "If you load all data from a file, you often also load irrelevant features for a task. In case of the data you just loaded, the feature is called ```Company```. This is an ID feature for the instances in the data. Such data must often be removed before further analysis of the data. Your second task is to remove this feature from the data."
   ]
  },
  {
   "cell_type": "code",
   "execution_count": null,
   "metadata": {},
   "outputs": [],
   "source": []
  },
  {
   "cell_type": "markdown",
   "metadata": {},
   "source": [
    "## Remove instances with missing values\n",
    "\n",
    "Real-life data is often not clean, i.e., the data has many problems which must be addressed first, before it can be used for analysis. One common problem are missing features, i.e., not all features are available for all data. This is also the case for the data you just loaded. All missing values are marked as NA in the CSV file. \n",
    "\n",
    "Your third task is to remove all instances from the data, that have any missing values and store the remaining instances in a new data frame. If this works correctly, five instances should be removed. You can check this, e.g., by comparing the sizes of the data frames or printing the instances that were removed.\n"
   ]
  },
  {
   "cell_type": "code",
   "execution_count": null,
   "metadata": {},
   "outputs": [],
   "source": []
  },
  {
   "cell_type": "markdown",
   "metadata": {},
   "source": [
    "## Computing with data frames\n",
    "\n",
    "Sometimes you have to compute new columns from the values of existing columns. Please append two new columns to the data frame: The sum of the columns WC/TA and RE/TA and the product of the columns EBIT/TA and S/TA. "
   ]
  },
  {
   "cell_type": "code",
   "execution_count": null,
   "metadata": {},
   "outputs": [],
   "source": []
  },
  {
   "cell_type": "markdown",
   "metadata": {},
   "source": [
    "## Merging data frames\n",
    "\n",
    "The next task of this exercise is to merge data frames. For this, load the data from the same CSV file as above again. Then merge the data frame with the result from task 2.4, such that:\n",
    "- the dropped feature from task 2.2 is part of the merged data frame; and\n",
    "- the removed instances from task 2.3 are still gone; and\n",
    "- the indirectly computed features from task 2.4 are part of the merged data frame. "
   ]
  },
  {
   "cell_type": "code",
   "execution_count": null,
   "metadata": {},
   "outputs": [],
   "source": []
  },
  {
   "cell_type": "markdown",
   "metadata": {},
   "source": [
    "## Selecting subsets\n",
    "\n",
    "Based on the data frame from task 2.5, create new data frames according to the following criteria.\n",
    "- A data frame with only the rows 10 to 20 and all columns. \n",
    "- A data frame with only the columns 1 to 4 and all rows. \n",
    "- A data frame with only the columns WC/TA and EBIT/TA and all rows. \n",
    "- A data frame with all rows that have the value RE/TA less than -20 and all columns.\n",
    "- A data frame with all rows that have the value RE/TA less than -20 and bankrupt equal to 0 and all columns. \n",
    "- A data frame with all rows that have the value RE/TA less than -20 and bankrupt equal to 0 and only the columns WC/TA and EBIT/TA. \n"
   ]
  },
  {
   "cell_type": "code",
   "execution_count": null,
   "metadata": {},
   "outputs": [],
   "source": []
  }
 ],
 "metadata": {
  "kernelspec": {
   "display_name": "Python 3",
   "language": "python",
   "name": "python3"
  },
  "language_info": {
   "codemirror_mode": {
    "name": "ipython",
    "version": 3
   },
   "file_extension": ".py",
   "mimetype": "text/x-python",
   "name": "python",
   "nbconvert_exporter": "python",
   "pygments_lexer": "ipython3",
   "version": "3.6.6"
  }
 },
 "nbformat": 4,
 "nbformat_minor": 2
}
