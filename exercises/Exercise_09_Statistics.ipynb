{
 "cells": [
  {
   "cell_type": "markdown",
   "metadata": {},
   "source": [
    "# Statistics\n",
    "\n",
    "This exercise sheet covers the following concepts.\n",
    "- Hypothesis Testing\n",
    "- Effect Sizes\n",
    "- Confidence Intervals\n",
    "\n",
    "## Data and Libraries\n",
    "\n",
    "Your task in this exercise is to apply statistical tests to compare the performance of two classification models. You can find everything you need in ```sklearn``` and ```scipy.stats```. For this exercise, we use the Iris data. The data is available both in ```sklearn```. \n",
    "\n",
    "## Repeated Training with Repeated Sampling\n",
    "\n",
    "Train classification models with a 5-nearest neighbor classifier and random forest classifier (100 estimators) for the Iris data using  5 different randomized train/test-splits with 50% data as training data. Calculate Matthews Correlation Coefficient (MCC) for each of these classifiers and create two arrays: one with the MCC values of the nearest neighbor classifier and one for the random forest. "
   ]
  },
  {
   "cell_type": "code",
   "execution_count": null,
   "metadata": {},
   "outputs": [],
   "source": []
  },
  {
   "cell_type": "markdown",
   "metadata": {},
   "source": [
    "## Statistical Comparison\n",
    "\n",
    "Compare the summary statistics mean, standard deviation, median, min, and max of the estimates for the MCC of both classifiers. Use statistical tests to determine if there is a statistically significant difference between the classifiers. If the difference is significant, use Cohen's $d$ to estimate the effect size. Moreover, calculate the confidence interval for the mean value of MCC to estimate the reliability of your performance estimation.\n",
    "\n",
    "Repeat all of the above with 10, 50, and 100 train/test splits. How do the results depend on the number of repetitions?\n"
   ]
  },
  {
   "cell_type": "code",
   "execution_count": null,
   "metadata": {},
   "outputs": [],
   "source": []
  }
 ],
 "metadata": {
  "kernelspec": {
   "display_name": "Python 3",
   "language": "python",
   "name": "python3"
  },
  "language_info": {
   "codemirror_mode": {
    "name": "ipython",
    "version": 3
   },
   "file_extension": ".py",
   "mimetype": "text/x-python",
   "name": "python",
   "nbconvert_exporter": "python",
   "pygments_lexer": "ipython3",
   "version": "3.6.6"
  }
 },
 "nbformat": 4,
 "nbformat_minor": 2
}
