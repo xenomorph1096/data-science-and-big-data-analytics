{
 "cells": [
  {
   "cell_type": "markdown",
   "metadata": {},
   "source": [
    "# Text Mining\n",
    "\n",
    "This exercise sheet covers the following concepts.\n",
    "- Pre-processing of textual data\n",
    "- Word Clouds\n",
    "- TF-IDF"
   ]
  },
  {
   "cell_type": "markdown",
   "metadata": {},
   "source": [
    "## Data and Libraries\n",
    "\n",
    "Your task in this exercise is to analyze textual data. You will perform various processing steps and see how the results of a simple visualization through word clouds evolve. You can find everything you need in the ```nltk``` and ```wordcloud``` libraries (+ some basic stuff, e.g., for regular expressions).\n",
    "\n",
    "For this exercise set, we provide data about the tweets from Donald Trump in 2017. You can download the data [here](https://user.informatik.uni-goettingen.de/~sherbold/trump-tweets-2017.txt), each line contains a single tweet. \n",
    "\n",
    "## Word clouds without pre-processing\n",
    "\n",
    "Load the data and create a word cloud without any further processing of the text data. Does this already work? What are problems?"
   ]
  },
  {
   "cell_type": "code",
   "execution_count": null,
   "metadata": {},
   "outputs": [],
   "source": []
  },
  {
   "cell_type": "markdown",
   "metadata": {},
   "source": [
    "## Pre-processing textual data\n",
    "\n",
    "Clean up the textual data, e.g., using the methods discussed in the lecture. Create a new word cloud based on the cleaned corpus. "
   ]
  },
  {
   "cell_type": "code",
   "execution_count": null,
   "metadata": {},
   "outputs": [],
   "source": []
  },
  {
   "cell_type": "markdown",
   "metadata": {},
   "source": [
    "## Use TF-IDF instead of TF\n",
    "\n",
    "The word clouds are based on simple term frequencies (TF) by default. Calculate the tf-idf, i.e., the term frequency weighted with the inverse document frequency and create a new word cloud based on these frequencies. How does it change?"
   ]
  },
  {
   "cell_type": "code",
   "execution_count": null,
   "metadata": {},
   "outputs": [],
   "source": []
  }
 ],
 "metadata": {
  "kernelspec": {
   "display_name": "Python 3",
   "language": "python",
   "name": "python3"
  },
  "language_info": {
   "codemirror_mode": {
    "name": "ipython",
    "version": 3
   },
   "file_extension": ".py",
   "mimetype": "text/x-python",
   "name": "python",
   "nbconvert_exporter": "python",
   "pygments_lexer": "ipython3",
   "version": "3.6.6"
  }
 },
 "nbformat": 4,
 "nbformat_minor": 2
}
